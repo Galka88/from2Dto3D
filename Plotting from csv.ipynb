{
 "cells": [
  {
   "cell_type": "code",
   "execution_count": 1,
   "metadata": {
    "collapsed": true
   },
   "outputs": [],
   "source": [
    "from scipy.interpolate import interp1d\n",
    "%matplotlib inline\n",
    "\n",
    "import pandas as pd\n",
    "import matplotlib.pyplot as plt\n",
    "\n",
    "def plot_func(name_of_csv_file):\n",
    "    plt.style.use('ggplot')  # Красивые графики\n",
    "    plt.rcParams['figure.figsize'] = (15, 30)  # Размер картинок\n",
    "\n",
    "    #name_of_csv_file\n",
    "    name_saved_pic = name_of_csv_file.split('.')[0] +'.png'\n",
    "    fixed_df = pd.read_csv(name_of_csv_file, sep=',')\n",
    "\n",
    "    #NUPACK - red\n",
    "    #Vienna - blue\n",
    "    #Hammington - *\n",
    "\n",
    "\n",
    "    L_list = fixed_df['LENGTH']\n",
    "    GC_list = fixed_df['G-С PERCENTAGE']\n",
    "    Tnn_list = fixed_df['NN TEMP']\n",
    "    Tgc_list = fixed_df['GC TEMP']\n",
    "    #Tw_list = fixed_df['WALLACE TEMP']\n",
    "    #SMass_list = fixed_df['SIMPLE MASS']\n",
    "    MolMass_list = fixed_df['MOLECULAR MASS']\n",
    "    Hammington_list = fixed_df['Hammington distance(NUPACK, VIENNA)']\n",
    "    Levenshtein_list = fixed_df['Damerau-Levenshtein distance(NUPACK, VIENNA)']\n",
    "\n",
    "    NUPACK_MFE = fixed_df['NUPACK MFE']\n",
    "    VIENNA_MFE = fixed_df['VIENNA MFE']\n",
    "\n",
    "    #f_NUPACK_MFE = interp1d(L_list, NUPACK_MFE, kind='linear')\n",
    "    #f_VIENNA_MFE = interp1d(L_list, VIENNA_MFE, kind='linear')\n",
    "\n",
    "    L_new = [i for i in range(min(L_list),max(L_list),5)]\n",
    "\n",
    "    fig, ((ax1, ax2),(ax5, ax6), (ax3, ax4)) = plt.subplots(3, 2)\n",
    "\n",
    "    #ax1.plot(L_new, f_NUPACK_MFE(L_new))\n",
    "    #ax1.plot(L_new, f_VIENNA_MFE(L_new))\n",
    "\n",
    "    ax1.scatter(L_list,NUPACK_MFE,marker = 'x')\n",
    "    ax1.scatter(L_list,VIENNA_MFE,s=15)\n",
    "    ax1.set(xlabel='L', ylabel='MFE')\n",
    "    ax1.set_title(\"MFE(L)\")\n",
    "\n",
    "    ax2.scatter(MolMass_list,NUPACK_MFE,marker = 'x')\n",
    "    ax2.scatter(MolMass_list,VIENNA_MFE,s=15)\n",
    "    ax2.set(xlabel='Molecular Mass', ylabel='MFE')\n",
    "    ax2.set_title(\"MFE(Molecular Mass)\")\n",
    "\n",
    "    ax5.scatter(GC_list,NUPACK_MFE,marker = 'x')\n",
    "    ax5.scatter(GC_list,VIENNA_MFE,s=15)\n",
    "    ax5.set(xlabel='GC', ylabel='MFE')\n",
    "    ax5.set_title(\"MFE(GC)\")\n",
    "\n",
    "    ax6.scatter(Tgc_list,NUPACK_MFE,marker = 'x')\n",
    "    ax6.scatter(Tgc_list,VIENNA_MFE,s=15)\n",
    "    ax6.set(xlabel='T_GC', ylabel='MFE')\n",
    "    ax6.set_title(\"MFE(T_GC)\")\n",
    "\n",
    "    ax4.scatter(Hammington_list,NUPACK_MFE,marker = 'x')\n",
    "    ax4.scatter(Hammington_list,VIENNA_MFE,s=15)\n",
    "    ax4.set(xlabel='Hammington distance', ylabel='MFE')\n",
    "    ax4.set_title(\"MFE(Hammington_distance)\")\n",
    "\n",
    "    ax3.scatter(Levenshtein_list,NUPACK_MFE,marker = 'x')\n",
    "    ax3.scatter(Levenshtein_list,VIENNA_MFE,s=15)\n",
    "    ax3.set(xlabel='Damerau-Levenshtein distance', ylabel='MFE')\n",
    "    ax3.set_title(\"MFE(Damerau-Levenshtein distance)\")\n",
    "    \n",
    "    plt.savefig(name_saved_pic)\n",
    "    plt.close()"
   ]
  },
  {
   "cell_type": "code",
   "execution_count": null,
   "metadata": {
    "collapsed": true
   },
   "outputs": [],
   "source": [
    "d = os.getcwd()\n",
    "\n",
    "list_folders = [os.path.join(d, o) for o in os.listdir(d) \n",
    "                    if os.path.isdir(os.path.join(d,o)) and ('RF' in o)]\n",
    "\n",
    "for x in list_folders:\n",
    "    for root, dirs,files in os.walk(x):\n",
    "        file_plot = os.path.join(x,files[0])\n",
    "        plot_func(file_plot)"
   ]
  }
 ],
 "metadata": {
  "anaconda-cloud": {},
  "kernelspec": {
   "display_name": "Python [conda env:anaconda3]",
   "language": "python",
   "name": "conda-env-anaconda3-py"
  },
  "language_info": {
   "codemirror_mode": {
    "name": "ipython",
    "version": 3
   },
   "file_extension": ".py",
   "mimetype": "text/x-python",
   "name": "python",
   "nbconvert_exporter": "python",
   "pygments_lexer": "ipython3",
   "version": "3.5.2"
  }
 },
 "nbformat": 4,
 "nbformat_minor": 1
}
