{
 "cells": [
  {
   "cell_type": "code",
   "execution_count": 1,
   "metadata": {
    "collapsed": false
   },
   "outputs": [
    {
     "name": "stderr",
     "output_type": "stream",
     "text": [
      "/home/marina/anaconda3/lib/python3.5/site-packages/Bio/__init__.py:128: BiopythonWarning: You may be importing Biopython from inside the source tree. This is bad practice and might lead to downstream issues. In particular, you might encounter ImportErrors due to missing compiled C extensions. We recommend that you try running your code from outside the source tree. If you are outside the source tree then you have a setup.py file in an unexpected directory: /home/marina/anaconda3/lib/python3.5/site-packages.\n",
      "  format(_parent_dir), BiopythonWarning)\n"
     ]
    }
   ],
   "source": [
    "#!/usr/bin/env python3\n",
    "\n",
    "from Bio.SeqUtils import MeltingTemp as mt\n",
    "\n",
    "from Bio.SeqUtils import IsoelectricPoint as isp\n",
    "from Bio.Seq import Seq, MutableSeq\n",
    "from Bio.Alphabet import generic_rna\n",
    "from Bio import SeqIO\n",
    "\n",
    "from Bio import Alphabet\n",
    "from Bio.Data import IUPACData\n",
    "\n",
    "from nupack_my import * # nupack_wrapper1 package ahtung\n",
    "from distances import *\n",
    "from characteristics import *\n",
    "from additional_tools import *\n",
    "\n",
    "import os\n",
    "import re\n",
    "import math\n",
    "\n",
    "import csv"
   ]
  },
  {
   "cell_type": "code",
   "execution_count": 12,
   "metadata": {
    "collapsed": true
   },
   "outputs": [],
   "source": [
    "# https://en.wikipedia.org/wiki/Damerau%E2%80%93Levenshtein_distance\n",
    "# https://en.wikipedia.org/wiki/Levenshtein_distance\n",
    "# https://en.wikipedia.org/wiki/Mahalanobis_distance"
   ]
  },
  {
   "cell_type": "code",
   "execution_count": 94,
   "metadata": {
    "collapsed": false,
    "scrolled": true
   },
   "outputs": [],
   "source": [
    "#list_name = \"RF00050.fa RF00059.fa RF00080.fa RF00162.fa RF00167.fa\"\n",
    "#list_name = \"RF00168.fa RF00174.fa RF00234.fa RF00379.fa RF00380.fa\"\n",
    "#list_name = \"RF00442.fa RF00504.fa RF00521.fa RF00522.fa RF00634.fa\"\n",
    "#list_name = \"RF01054.fa RF01055.fa RF01056.fa RF01057.fa RF01482.fa\"\n",
    "#list_name = \"RF01510.fa RF01689.fa RF01725.fa RF01727.fa RF01734.fa\"\n",
    "#list_name = \"RF01739.fa RF01750.fa RF01767.fa RF01786.fa RF01826.fa\"\n",
    "#list_name = \"RF01831.fa RF02680.fa RF02683.fa RF02885.fa RF02912.fa\"\n",
    "#list_name = \"RF03057.fa RF03058.fa RF03071.fa RF03072.fa\"\n",
    "\n",
    "#list_name = list_name.split()\n",
    "\n",
    "list_name = ['RF00050.fa', 'RF00059.fa', 'RF00162.fa', 'RF00167.fa',\n",
    "                    'RF00168.fa', 'RF00504.fa', 'RF01725.fa', 'RF01727.fa',\n",
    "                    'RF01739.fa']\n",
    "\n",
    "err_file = open(\"error.txt\", \"a+\")\n",
    "err_file.write(\"GROUP ID\" + '\\t' + \"RNA ID\" + '\\t' + \"SEQUENCE\")\n",
    "\n",
    "\n",
    "save_path1 = os.getcwd()+'/'\n",
    "\n",
    "for fasta_name in list_name:\n",
    "        \n",
    "    save_path = save_path1 + fasta_name.split(\".\")[0]\n",
    "    \n",
    "    if not(os.path.exists(save_path)):\n",
    "        os.mkdir(save_path)\n",
    "        \n",
    "    file_output_name1 = fasta_name.split(\".\")[0] + \".txt\"\n",
    "\n",
    "\n",
    "    vienna_source_file_name = \"res_\" + file_output_name1\n",
    "    vienna_source_file = open(vienna_source_file_name, \"r\")\n",
    "    vienna_lines = vienna_source_file.readlines()\n",
    "\n",
    "    csv_file_name1 = fasta_name.split(\".\")[0] +\".csv\"\n",
    "    csv_file_name = os.path.join(save_path, csv_file_name1)\n",
    "    \n",
    "    fieldnames = [\"RNA ID\",\"LENGTH\",\"G-С PERCENTAGE\", \"WALLACE TEMP\",\"GC TEMP\",\"NN TEMP\",\"SIMPLE MASS\",\n",
    "                  \"MOLECULAR MASS\",\"NUPACK MFE\", \"VIENNA MFE\", \"NUPACK DOT-BRACKET\",\n",
    "                  \"VIENNA DOT-BRACKET\",\"Hammington distance(NUPACK, VIENNA)\",\n",
    "                  \"Damerau-Levenshtein distance(NUPACK, VIENNA)\"]\n",
    "    \n",
    "    csv_file = open(csv_file_name, \"w+\", newline='\\n')\n",
    "    writer = csv.writer(csv_file, delimiter=',')\n",
    "    writer.writerow(fieldnames)\n",
    "    \n",
    "    for seq_record in SeqIO.parse(fasta_name , \"fasta\"):\n",
    "        \n",
    "        dic = seq_record.seq\n",
    "        i = seq_record.id\n",
    "        \n",
    "        new_RNA = [str(dic).encode('utf-8')]\n",
    "\n",
    "        G, C, A, L = nucl_cont(dic)\n",
    "        Tw, Tgc, Tnn = temperatures(dic)\n",
    "        mw, mass = weights(dic,G,C,A,L)\n",
    "\n",
    "        new_RNA = [str(dic).encode('utf-8')]\n",
    "        MFE = mfe(new_RNA, material='rna')\n",
    "\n",
    "        #---------------------------------------------------------------------------------\n",
    "        for j in range(2,len(vienna_lines),3):\n",
    "            vienna_id = vienna_lines[j-2].split(' ')[0].replace('>', '')\n",
    "\n",
    "            if vienna_id == i:\n",
    "                vienna_dot_bracket = vienna_lines[j].split(' ')[0]\n",
    "                fixed_vienna_line = re.sub(r'\\( ','(', vienna_lines[j])\n",
    "                vienna_mfe = fixed_vienna_line.split(' ')[1].replace('(','').replace(')','').replace('\\\\n','')\n",
    "                break    \n",
    "        #---------------------------------------------------------------------------------\n",
    "        \n",
    "        if (len(MFE) == 0):\n",
    "            err_file.write(fasta_name.split(\".\")[0] + '\\t' + i + '\\t' + str(dic) + '\\n')\n",
    "            MFE = [[\"-\"*len(dic), \"0.\"]]\n",
    "        \n",
    "        values = [i,L,round(((G + C) / L) * 100, 2),Tw,Tgc,Tnn,mass, mw,float(MFE[0][1]),float(vienna_mfe.split('\\n')[0]),MFE[0][0],vienna_dot_bracket,hamming_distance(MFE[0][0], vienna_dot_bracket) ,damerau_levenshtein_distance(MFE[0][0], vienna_dot_bracket)]\n",
    "        \n",
    "\n",
    "        \n",
    "        writer.writerow(values)\n",
    "        \n",
    "        \n",
    "    csv_file.close()\n",
    "    vienna_source_file.close()\n",
    "\n",
    "\n",
    "    \n",
    "    \n",
    "err_file.close()"
   ]
  },
  {
   "cell_type": "code",
   "execution_count": 4,
   "metadata": {
    "collapsed": false,
    "scrolled": true
   },
   "outputs": [],
   "source": []
  },
  {
   "cell_type": "code",
   "execution_count": null,
   "metadata": {
    "collapsed": true
   },
   "outputs": [],
   "source": []
  },
  {
   "cell_type": "code",
   "execution_count": null,
   "metadata": {
    "collapsed": true
   },
   "outputs": [],
   "source": []
  },
  {
   "cell_type": "code",
   "execution_count": null,
   "metadata": {
    "collapsed": true
   },
   "outputs": [],
   "source": []
  },
  {
   "cell_type": "code",
   "execution_count": null,
   "metadata": {
    "collapsed": true
   },
   "outputs": [],
   "source": []
  },
  {
   "cell_type": "code",
   "execution_count": null,
   "metadata": {
    "collapsed": true
   },
   "outputs": [],
   "source": []
  },
  {
   "cell_type": "code",
   "execution_count": null,
   "metadata": {
    "collapsed": true
   },
   "outputs": [],
   "source": []
  },
  {
   "cell_type": "code",
   "execution_count": null,
   "metadata": {
    "collapsed": true
   },
   "outputs": [],
   "source": []
  },
  {
   "cell_type": "code",
   "execution_count": null,
   "metadata": {
    "collapsed": true
   },
   "outputs": [],
   "source": []
  },
  {
   "cell_type": "code",
   "execution_count": null,
   "metadata": {
    "collapsed": true
   },
   "outputs": [],
   "source": []
  },
  {
   "cell_type": "code",
   "execution_count": null,
   "metadata": {
    "collapsed": true
   },
   "outputs": [],
   "source": []
  },
  {
   "cell_type": "code",
   "execution_count": null,
   "metadata": {
    "collapsed": true
   },
   "outputs": [],
   "source": []
  },
  {
   "cell_type": "code",
   "execution_count": null,
   "metadata": {
    "collapsed": true
   },
   "outputs": [],
   "source": []
  },
  {
   "cell_type": "code",
   "execution_count": null,
   "metadata": {
    "collapsed": true
   },
   "outputs": [],
   "source": []
  },
  {
   "cell_type": "code",
   "execution_count": 10,
   "metadata": {
    "collapsed": true
   },
   "outputs": [],
   "source": []
  },
  {
   "cell_type": "code",
   "execution_count": 15,
   "metadata": {
    "collapsed": true
   },
   "outputs": [],
   "source": [
    "#OLD VERSION"
   ]
  },
  {
   "cell_type": "code",
   "execution_count": null,
   "metadata": {
    "collapsed": true
   },
   "outputs": [],
   "source": [
    "#list_name = \"RF00050.fa RF00059.fa RF00080.fa RF00162.fa RF00167.fa\"\n",
    "#list_name = \"RF00168.fa RF00174.fa RF00234.fa RF00379.fa RF00380.fa\"\n",
    "#list_name = \"RF00442.fa RF00504.fa RF00521.fa RF00522.fa RF00634.fa\"\n",
    "#list_name = \"RF01054.fa RF01055.fa RF01056.fa RF01057.fa RF01482.fa\"\n",
    "#list_name = \"RF01510.fa RF01689.fa RF01725.fa RF01727.fa RF01734.fa\"\n",
    "#list_name = \"RF01739.fa RF01750.fa RF01767.fa RF01786.fa RF01826.fa\"\n",
    "#list_name = \"RF01831.fa RF02680.fa RF02683.fa RF02885.fa RF02912.fa\"\n",
    "#list_name = \"RF03057.fa RF03058.fa RF03071.fa RF03072.fa\"\n",
    "list_name = ['RF00050.fa']\n",
    "#list_name = list_name.split()\n",
    "err_file = open(\"error.txt\", \"a+\")\n",
    "err_file.write(\"GROUP ID\" + '\\t' + \"RNA ID\" + '\\t' + \"SEQUENCE\")\n",
    "\n",
    "\n",
    "save_path1 = os.getcwd()+'/'\n",
    "\n",
    "for fasta_name in list_name:\n",
    "        \n",
    "    save_path = save_path1 + fasta_name.split(\".\")[0]\n",
    "    \n",
    "    if not(os.path.exists(save_path)):\n",
    "        os.mkdir(save_path)\n",
    "        \n",
    "    file_output_name1 = fasta_name.split(\".\")[0] + \".txt\"\n",
    "    file_output_name = os.path.join(save_path, file_output_name1)\n",
    "\n",
    "    file_out = open(file_output_name, \"a+\")\n",
    "    file_out.write(\"RNA ID\" + '\\t' + \"SEQUENCE\" + '\\t' + \"NUPACK DOT-BRACKET\" + '\\t' + \"NUPACK MFE\" + '\\t' + \"VIENNA DOT-BRACKET\" + '\\t' + \"VIENNA MFE\" + '\\t'+ 'Hammington distance(NUPACK, VIENNA)'+ '\\t'+'Damerau-Levenshtein distance(NUPACK, VIENNA)' +'\\n')\n",
    "\n",
    "    table_name1 = fasta_name.split(\".\")[0] + \"_table.txt\"\n",
    "    table_name = os.path.join(save_path, table_name1)\n",
    "\n",
    "    table_file = open(table_name, \"a+\")\n",
    "    table_file.write(\"RNA ID\" + '\\t' + \"LENGTH\" + '\\t' + \"G-С PERCENTAGE\" + '\\t' + \"WALLACE TEMP\" + '\\t' + \"GC TEMP\" + '\\t' + \"NN TEMP\" + '\\t' + \"SIMPLE MASS\" + '\\t' + \"MOLECULAR MASS\" + '\\t' + \"NUPACK MFE\" + '\\t' + \"VIENNA MFE\" + '\\n');\n",
    "\n",
    "\n",
    "    vienna_source_file_name = \"res_\" + file_output_name1\n",
    "    vienna_source_file = open(vienna_source_file_name, \"r\")\n",
    "    vienna_lines = vienna_source_file.readlines()\n",
    "        \n",
    "    for seq_record in SeqIO.parse(fasta_name , \"fasta\"):\n",
    "        \n",
    "        \n",
    "        dic = seq_record.seq\n",
    "        i = seq_record.id\n",
    "\n",
    "\n",
    "        new_RNA = [str(dic).encode('utf-8')]\n",
    "\n",
    "        G, C, A, L = nucl_cont(dic)\n",
    "        Tw, Tgc, Tnn = temperatures(dic)\n",
    "        mw, mass = weights(dic,G,C,A,L)\n",
    "\n",
    "        new_RNA = [str(dic).encode('utf-8')]\n",
    "        MFE = mfe(new_RNA, material='rna')\n",
    "\n",
    "        #---------------------------------------------------------------------------------\n",
    "        for j in range(2,len(vienna_lines),3):\n",
    "\n",
    "\n",
    "            vienna_id = vienna_lines[j-2].split(' ')[0].replace('>', '')\n",
    "\n",
    "            if vienna_id == i:\n",
    "                vienna_dot_bracket = vienna_lines[j].split(' ')[0]\n",
    "                fixed_vienna_line = re.sub(r'\\( ','(', vienna_lines[j])\n",
    "                vienna_mfe = fixed_vienna_line.split(' ')[1].replace('(','').replace(')','').replace('\\\\n','')\n",
    "                break    \n",
    "        #---------------------------------------------------------------------------------\n",
    "\n",
    "\n",
    "        if (len(MFE) == 0):\n",
    "            err_file.write(fasta_name.split(\".\")[0] + '\\t' + i + '\\t' + str(dic) + '\\n')\n",
    "            MFE = [[\"-\"*len(dic), \"0.\"]]\n",
    "\n",
    "\n",
    "\n",
    "        file_out.write(i + '\\t' + str(dic) + '\\t' + str(MFE[0][0]) + '\\t' + str(MFE[0][1]) + '\\t' + vienna_dot_bracket + '\\t' + str(vienna_mfe) + '\\t'+ str(hamming_distance(MFE[0][0], vienna_dot_bracket))+'\\t'+str(damerau_levenshtein_distance(MFE[0][0], vienna_dot_bracket)) +'\\n')\n",
    "        table_file.write(i + '\\t' + str(L) + '\\t' + str(round(((G + C) / L) * 100, 2)) + '\\t' + str(Tw) + '\\t' + str(Tgc) + '\\t' + str(Tnn) + '\\t' + str(mass) + '\\t' + str(mw) + '\\t' + str(MFE[0][1]) + '\\t' + str(vienna_mfe) + '\\n')\n",
    "\n",
    "    file_out.close()\n",
    "    vienna_source_file.close()\n",
    "    table_file.close()\n",
    "\n",
    "\n",
    "    \n",
    "    \n",
    "err_file.close()"
   ]
  }
 ],
 "metadata": {
  "anaconda-cloud": {},
  "kernelspec": {
   "display_name": "Python [default]",
   "language": "python",
   "name": "python3"
  },
  "language_info": {
   "codemirror_mode": {
    "name": "ipython",
    "version": 3
   },
   "file_extension": ".py",
   "mimetype": "text/x-python",
   "name": "python",
   "nbconvert_exporter": "python",
   "pygments_lexer": "ipython3",
   "version": "3.5.2"
  }
 },
 "nbformat": 4,
 "nbformat_minor": 1
}
